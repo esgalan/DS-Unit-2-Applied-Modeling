{
 "cells": [
  {
   "cell_type": "code",
   "execution_count": 1,
   "id": "another-cloud",
   "metadata": {},
   "outputs": [],
   "source": [
    "%%capture\n",
    "import sys\n",
    "\n",
    "# If you're on Colab:\n",
    "if 'google.colab' in sys.modules:\n",
    "    DATA_PATH = 'https://raw.githubusercontent.com/LambdaSchool/DS-Unit-2-Applied-Modeling/master/data/'\n",
    "    !pip install category_encoders==2.*\n",
    "\n",
    "# If you're working locally:\n",
    "else:\n",
    "    DATA_PATH = '../data/'"
   ]
  },
  {
   "cell_type": "markdown",
   "id": "genetic-doctor",
   "metadata": {},
   "source": [
    "# Wrangle Data"
   ]
  },
  {
   "cell_type": "code",
   "execution_count": 2,
   "id": "surgical-president",
   "metadata": {},
   "outputs": [],
   "source": [
    "# Imports\n",
    "import pandas as pd\n",
    "import numpy as np\n",
    "import matplotlib.pyplot as plt\n",
    "\n",
    "# Wrangle Function\n",
    "def wrangle(filepath):\n",
    "    \n",
    "    # Read in data\n",
    "    df = pd.read_csv(DATA_PATH + '/burritos/burritos.csv',\n",
    "                     parse_dates=['Date'],\n",
    "                     index_col='Date')\n",
    "    \n",
    "    # Drop rows with no target\n",
    "    df.dropna(axis=0, subset=['overall'], inplace=True)\n",
    "    \n",
    "    # Drop columns with high-NaN values\n",
    "    df.dropna(axis=1, thresh=150, inplace=True)\n",
    "    \n",
    "    return df\n",
    "\n",
    "df = wrangle(DATA_PATH + '/burritos/burritos.csv')"
   ]
  },
  {
   "cell_type": "code",
   "execution_count": 4,
   "id": "deadly-parade",
   "metadata": {},
   "outputs": [
    {
     "name": "stdout",
     "output_type": "stream",
     "text": [
      "<class 'pandas.core.frame.DataFrame'>\n",
      "DatetimeIndex: 421 entries, 2016-01-18 to 2019-08-27\n",
      "Data columns (total 23 columns):\n",
      " #   Column        Non-Null Count  Dtype  \n",
      "---  ------        --------------  -----  \n",
      " 0   Location      421 non-null    object \n",
      " 1   Burrito       421 non-null    object \n",
      " 2   Cost          414 non-null    float64\n",
      " 3   Hunger        418 non-null    float64\n",
      " 4   Length        283 non-null    float64\n",
      " 5   Circum        281 non-null    float64\n",
      " 6   Volume        281 non-null    float64\n",
      " 7   Tortilla      421 non-null    float64\n",
      " 8   Temp          401 non-null    float64\n",
      " 9   Meat          407 non-null    float64\n",
      " 10  Fillings      418 non-null    float64\n",
      " 11  Meat:filling  412 non-null    float64\n",
      " 12  Uniformity    419 non-null    float64\n",
      " 13  Salsa         396 non-null    float64\n",
      " 14  Synergy       419 non-null    float64\n",
      " 15  Wrap          418 non-null    float64\n",
      " 16  overall       421 non-null    float64\n",
      " 17  Rec           231 non-null    object \n",
      " 18  Reviewer      420 non-null    object \n",
      " 19  Beef          179 non-null    object \n",
      " 20  Pico          158 non-null    object \n",
      " 21  Guac          154 non-null    object \n",
      " 22  Cheese        159 non-null    object \n",
      "dtypes: float64(15), object(8)\n",
      "memory usage: 78.9+ KB\n"
     ]
    }
   ],
   "source": [
    "df.info()"
   ]
  },
  {
   "cell_type": "code",
   "execution_count": null,
   "id": "structured-edinburgh",
   "metadata": {},
   "outputs": [],
   "source": []
  }
 ],
 "metadata": {
  "kernelspec": {
   "display_name": "Python 3",
   "language": "python",
   "name": "python3"
  },
  "language_info": {
   "codemirror_mode": {
    "name": "ipython",
    "version": 3
   },
   "file_extension": ".py",
   "mimetype": "text/x-python",
   "name": "python",
   "nbconvert_exporter": "python",
   "pygments_lexer": "ipython3",
   "version": "3.8.5"
  }
 },
 "nbformat": 4,
 "nbformat_minor": 5
}
